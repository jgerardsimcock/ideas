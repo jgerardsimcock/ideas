{
 "cells": [
  {
   "cell_type": "markdown",
   "metadata": {},
   "source": [
    "#Source: \n",
    "#http://www.bogotobogo.com/python/python_numpy_batch_gradient_descent_algorithm.php"
   ]
  },
  {
   "cell_type": "code",
   "execution_count": 2,
   "metadata": {
    "collapsed": true
   },
   "outputs": [],
   "source": [
    "import numpy as np\n",
    "import random\n",
    "import sklearn\n",
    "from sklearn.datasets.samples_generator import make_regression\n",
    "import matplotlib.pyplot as plt\n",
    "%matplotlib inline\n",
    "from scipy import stats"
   ]
  },
  {
   "cell_type": "code",
   "execution_count": 14,
   "metadata": {
    "collapsed": false
   },
   "outputs": [
    {
     "name": "stdout",
     "output_type": "stream",
     "text": [
      "\n"
     ]
    }
   ],
   "source": [
    "def gradient_descent(alpha, x, y, ep, max_iter=1000):\n",
    "    converged = False\n",
    "    iteration = 0\n",
    "    m = x.shape[0] #number of samples\n",
    "    \n",
    "    #initial theta\n",
    "    t0 = np.random.random(x.shape[1])\n",
    "    t1 = np.random.random(x.shape[1])\n",
    "    \n",
    "    \n",
    "    #total error, J(theta)\n",
    "    J = sum([(t0 + t1*x[i] - y[i])**2 for i in range(m)])\n",
    "    \n",
    "    #Iterate Loop\n",
    "    while not converged:\n",
    "        #for each training sample, compute the gradient d/d_thate j(theta)\n",
    "        #This is our average cost function \n",
    "        grad0 = (1.0/m) * sum([(t0 + t1*x[i] - y[i]) for i in range(m)])\n",
    "        grad1 = (1.0/m) * sum([(t0 + t1*x[i] - y[i])*x[i] for i in range(m)])\n",
    "        \n",
    "        #update temp theta\n",
    "        temp0 = t0 - alpha*grad0\n",
    "        temp1 = t1 - alpha*grad1\n",
    "        \n",
    "        #update theta\n",
    "        t0 = temp0\n",
    "        t1 = temp1\n",
    "        \n",
    "        \n",
    "        # mean squared error\n",
    "        \n",
    "        e = sum([(t0 + t1*x[i] - y[i])**2 for i in range(m)])\n",
    "        \n",
    "        if abs(J-e) <=ep:\n",
    "            print 'Converged, iterations: ', iteration\n",
    "            converged = True\n",
    "            \n",
    "        J = e #update error\n",
    "        iteration +=1 #update iterations\n",
    "        \n",
    "        #set condition for limit\n",
    "        if iteration == max_iter:\n",
    "            print \"Max interations exceeeded\"\n",
    "            converged = True\n",
    "        \n",
    "    return t0, t1"
   ]
  },
  {
   "cell_type": "code",
   "execution_count": 9,
   "metadata": {
    "collapsed": false
   },
   "outputs": [
    {
     "name": "stdout",
     "output_type": "stream",
     "text": [
      "x.shape = (100, 1) y.shape = (100,)\n"
     ]
    }
   ],
   "source": [
    "x, y = make_regression(n_samples=100, n_features=1, n_informative=1, \n",
    "                        random_state=0, noise=35) \n",
    "print 'x.shape = %s y.shape = %s' %(x.shape, y.shape)"
   ]
  },
  {
   "cell_type": "code",
   "execution_count": 15,
   "metadata": {
    "collapsed": false
   },
   "outputs": [
    {
     "name": "stdout",
     "output_type": "stream",
     "text": [
      "Converged, iterations:  641\n",
      "theta0 = [-2.81950488] theta1 = [ 43.13874476]\n"
     ]
    }
   ],
   "source": [
    "alpha = .01 #learning rate\n",
    "ep = .01 #convergence criteria\n",
    "\n",
    "#run gradient descent and get intercept(theta0) and slope(theta1)\n",
    "theta0, theta1 = gradient_descent(alpha, x,y, ep, max_iter=1000)\n",
    "print ('theta0 = %s theta1 = %s') %(theta0, theta1) "
   ]
  },
  {
   "cell_type": "code",
   "execution_count": 18,
   "metadata": {
    "collapsed": false,
    "scrolled": true
   },
   "outputs": [
    {
     "name": "stdout",
     "output_type": "stream",
     "text": [
      "intercept = -2.84963639461 slope = 43.2042438802\n"
     ]
    }
   ],
   "source": [
    "#Double check with scipy to confirm\n",
    "\n",
    "slope, intercept, r_value, p_value, slope_std_error = stats.linregress(x[:,0], y)\n",
    "\n",
    "print ('intercept = %s slope = %s') %(intercept, slope)"
   ]
  },
  {
   "cell_type": "code",
   "execution_count": 21,
   "metadata": {
    "collapsed": false
   },
   "outputs": [
    {
     "data": {
      "image/png": "[encoded data removed]",
      "text/plain": [
       "<matplotlib.figure.Figure at 0x11228dcd0>"
      ]
     },
     "metadata": {},
     "output_type": "display_data"
    }
   ],
   "source": [
    "for i in range(x.shape[0]):\n",
    "    y_predict = theta0 + theta1*x\n",
    "    \n",
    "plt.plot(x,y,'o')\n",
    "plt.plot(x,y_predict,'k-')\n",
    "plt.show()\n"
   ]
  }
 ],
 "metadata": {
  "kernelspec": {
   "display_name": "Python 2",
   "language": "python",
   "name": "python2"
  },
  "language_info": {
   "codemirror_mode": {
    "name": "ipython",
    "version": 2
   },
   "file_extension": ".py",
   "mimetype": "text/x-python",
   "name": "python",
   "nbconvert_exporter": "python",
   "pygments_lexer": "ipython2",
   "version": "2.7.11"
  }
 },
 "nbformat": 4,
 "nbformat_minor": 0
}
