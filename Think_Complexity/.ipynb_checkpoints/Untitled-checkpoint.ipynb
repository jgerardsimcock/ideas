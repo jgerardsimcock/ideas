{
 "cells": [
  {
   "cell_type": "code",
   "execution_count": 1,
   "metadata": {
    "collapsed": true
   },
   "outputs": [],
   "source": [
    "class Graph(dict):\n",
    "    \n",
    "    def __init__(self, vs = [], es = []):\n",
    "        \"\"\"\n",
    "        Create a new graph. (vs) is a list of vertices. \n",
    "        (es) is a list of edges.\n",
    "        \"\"\"\n",
    "        \n",
    "        for v in vs: \n",
    "            self.add_vertex(v)\n",
    "            \n",
    "        for e in es:\n",
    "            self.add_edge(e)\n",
    "            \n",
    "    \n",
    "    def add_vertex(self, v):\n",
    "        \"\"\"add (v) to graph\"\"\"\n",
    "        self[v] = {}\n",
    "        \n",
    "    def add_edge(self, e):\n",
    "        \"\"\"\n",
    "        add (e) to the graph by adding an entry in both directions\n",
    "        If there is already an edge connecting these Vertices, the new \n",
    "        edge replaces it. \n",
    "        \"\"\"\n",
    "        \n",
    "        v, w = e\n",
    "        self[v][w] = e\n",
    "        self[w][v] = e"
   ]
  },
  {
   "cell_type": "code",
   "execution_count": 2,
   "metadata": {
    "collapsed": true
   },
   "outputs": [],
   "source": [
    "class Vertex(object):\n",
    "    \n",
    "    def __init__(self, label = ''):\n",
    "        self.label = label\n",
    "        \n",
    "    \n",
    "    def __repr__(self):\n",
    "        return 'Vertex(%s)' % repr(self.label)\n",
    "    \n",
    "    __str__ = __repr__"
   ]
  },
  {
   "cell_type": "code",
   "execution_count": 16,
   "metadata": {
    "collapsed": false
   },
   "outputs": [],
   "source": [
    "class Edge(tuple):\n",
    "    \n",
    "    def __new__(cls, *vs):\n",
    "        \"\"\"\n",
    "        Edge constructor takes two vertices\n",
    "        \"\"\"\n",
    "        if len(vs) != 2:\n",
    "            raise ValueError, 'Edges must connect exactly two vertices.'\n",
    "        return tuple.__new__(cls, vs)\n",
    "    \n",
    "    def __repr__(self):\n",
    "        return 'Edge(%s,%s)' % (repr(self[0]), repr(self,[1]))\n",
    "    \n",
    "    __str__ = __repr__\n",
    "    \n",
    "    "
   ]
  },
  {
   "cell_type": "code",
   "execution_count": 17,
   "metadata": {
    "collapsed": false
   },
   "outputs": [
    {
     "ename": "TypeError",
     "evalue": "__new__() takes exactly 3 arguments (2 given)",
     "output_type": "error",
     "traceback": [
      "\u001b[0;31m---------------------------------------------------------------------------\u001b[0m",
      "\u001b[0;31mTypeError\u001b[0m                                 Traceback (most recent call last)",
      "\u001b[0;32m<ipython-input-17-139f2bea2537>\u001b[0m in \u001b[0;36m<module>\u001b[0;34m()\u001b[0m\n\u001b[1;32m      1\u001b[0m \u001b[0mv\u001b[0m \u001b[0;34m=\u001b[0m \u001b[0mVertex\u001b[0m\u001b[0;34m(\u001b[0m\u001b[0;34m'v'\u001b[0m\u001b[0;34m)\u001b[0m\u001b[0;34m\u001b[0m\u001b[0m\n\u001b[1;32m      2\u001b[0m \u001b[0mw\u001b[0m \u001b[0;34m=\u001b[0m \u001b[0mVertex\u001b[0m\u001b[0;34m(\u001b[0m\u001b[0;34m'w'\u001b[0m\u001b[0;34m)\u001b[0m\u001b[0;34m\u001b[0m\u001b[0m\n\u001b[0;32m----> 3\u001b[0;31m \u001b[0me\u001b[0m \u001b[0;34m=\u001b[0m \u001b[0mEdge\u001b[0m\u001b[0;34m(\u001b[0m\u001b[0;34m'e'\u001b[0m\u001b[0;34m)\u001b[0m\u001b[0;34m\u001b[0m\u001b[0m\n\u001b[0m\u001b[1;32m      4\u001b[0m \u001b[0;32mprint\u001b[0m \u001b[0me\u001b[0m\u001b[0;34m\u001b[0m\u001b[0m\n",
      "\u001b[0;31mTypeError\u001b[0m: __new__() takes exactly 3 arguments (2 given)"
     ]
    }
   ],
   "source": [
    "v = Vertex('v')\n",
    "w = Vertex('w')\n",
    "e = Edge('e')\n",
    "print e"
   ]
  }
 ],
 "metadata": {
  "kernelspec": {
   "display_name": "Python 2",
   "language": "python",
   "name": "python2"
  },
  "language_info": {
   "codemirror_mode": {
    "name": "ipython",
    "version": 2
   },
   "file_extension": ".py",
   "mimetype": "text/x-python",
   "name": "python",
   "nbconvert_exporter": "python",
   "pygments_lexer": "ipython2",
   "version": "2.7.11"
  }
 },
 "nbformat": 4,
 "nbformat_minor": 0
}
